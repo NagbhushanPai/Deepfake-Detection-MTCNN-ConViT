{
  "cells": [
    {
      "cell_type": "code",
      "execution_count": 1,
      "metadata": {
        "colab": {
          "base_uri": "https://localhost:8080/"
        },
        "id": "JPsONuSS-5kq",
        "outputId": "7886037c-055c-4628-b49e-f9ddd1616b46"
      },
      "outputs": [
        {
          "name": "stdout",
          "output_type": "stream",
          "text": [
            "Path to dataset files: /kaggle/input/faceforensics\n"
          ]
        }
      ],
      "source": [
        "import kagglehub\n",
        "\n",
        "# Download latest version\n",
        "path = kagglehub.dataset_download(\"hungle3401/faceforensics\")\n",
        "\n",
        "print(\"Path to dataset files:\", path)"
      ]
    },
    {
      "cell_type": "code",
      "execution_count": 1,
      "metadata": {
        "colab": {
          "base_uri": "https://localhost:8080/"
        },
        "id": "LS4QX2p1i6OJ",
        "outputId": "b4af954c-a6cb-4441-83d5-237a5649bfe1"
      },
      "outputs": [
        {
          "name": "stdout",
          "output_type": "stream",
          "text": [
            "Num GPUs Available:  0\n"
          ]
        }
      ],
      "source": [
        "import tensorflow as tf\n",
        "print(\"Num GPUs Available: \", len(tf.config.list_physical_devices('GPU')))  # Should show 1+"
      ]
    },
    {
      "cell_type": "markdown",
      "metadata": {},
      "source": [
        "# Cell 1: Setup and Install Tools "
      ]
    },
    {
      "cell_type": "code",
      "execution_count": null,
      "metadata": {
        "colab": {
          "base_uri": "https://localhost:8080/"
        },
        "collapsed": true,
        "id": "1GUtux-m_YEH",
        "outputId": "324d4672-09a9-4c3c-c02e-d74a03140c63"
      },
      "outputs": [
        {
          "name": "stdout",
          "output_type": "stream",
          "text": [
            "Using device: cpu\n"
          ]
        }
      ],
      "source": [
        "\n",
        "import torch\n",
        "import torch.nn as nn\n",
        "import torch.optim as optim\n",
        "from torch.utils.data import Dataset, DataLoader, random_split\n",
        "from transformers import ViTForImageClassification, ViTImageProcessor  # Updated to avoid deprecation\n",
        "import cv2\n",
        "from mtcnn import MTCNN\n",
        "import os\n",
        "import numpy as np\n",
        "from PIL import Image\n",
        "from sklearn.metrics import accuracy_score\n",
        "import matplotlib.pyplot as plt\n",
        "from tqdm import tqdm  \n",
        "\n",
        "# Set device (GPU in Kaggle)\n",
        "device = torch.device(\"cuda\" if torch.cuda.is_available() else \"cpu\")\n",
        "print(f\"Using device: {device}\")\n",
        "\n",
        "\n"
      ]
    },
    {
      "cell_type": "markdown",
      "metadata": {},
      "source": [
        "# Cell 2: Data Preparation (With Progress and Visuals)"
      ]
    },
    {
      "cell_type": "code",
      "execution_count": null,
      "metadata": {
        "colab": {
          "base_uri": "https://localhost:8080/",
          "height": 573
        },
        "id": "DRTyDrLYGtyj",
        "outputId": "273c617f-ef18-418e-acf8-0d5602dfe8eb"
      },
      "outputs": [],
      "source": [
        "\n",
        "# Define your OWN directories for real and fake videos\n",
        "# Make sure these paths are correct based on your Kaggle environment\n",
        "\n",
        "real_dir = r'archive\\FF++\\real'  # Folder with real videos    \n",
        "fake_dir = r'archive\\FF++\\fake'  # Folder with fake videos\n",
        "\n",
        "# Extracting faces \n",
        "def extract_faces_from_video(video_path, num_frames=10):\n",
        "    cap = cv2.VideoCapture(video_path)\n",
        "    frames = []\n",
        "    detector = MTCNN()\n",
        "    frame_count = int(cap.get(cv2.CAP_PROP_FRAME_COUNT))\n",
        "    step = max(1, frame_count // num_frames)\n",
        "\n",
        "    for i in range(0, frame_count, step):\n",
        "        cap.set(cv2.CAP_PROP_POS_FRAMES, i)\n",
        "        ret, frame = cap.read()\n",
        "        if not ret:\n",
        "            break\n",
        "        frame_rgb = cv2.cvtColor(frame, cv2.COLOR_BGR2RGB)\n",
        "        faces = detector.detect_faces(frame_rgb)\n",
        "        if faces:\n",
        "            x, y, w, h = faces[0]['box']\n",
        "            face = frame_rgb[y:y+h, x:x+w]\n",
        "            face = cv2.resize(face, (224, 224))\n",
        "            frames.append(Image.fromarray(face))\n",
        "    cap.release()\n",
        "    return frames\n",
        "\n",
        "# Imports for progress and visualization\n",
        "from tqdm import tqdm\n",
        "import matplotlib.pyplot as plt\n",
        "\n",
        "# Updated Dataset class with progress and limit ( 50 videos per folder for speed) - now single-threaded\n",
        "# Multithredding needs to be avoided in Kaggle due to resource limits\n",
        "\n",
        "class DeepfakeDataset(Dataset):\n",
        "    def __init__(self, image_processor, max_videos_per_class=100):   # Currently set to 100 for accuracy\n",
        "        self.images = []\n",
        "        self.labels = []\n",
        "        self.image_processor = image_processor\n",
        "\n",
        "        # Process real videos (single-threaded with progress)\n",
        "        real_files = [f for f in os.listdir(real_dir) if f.endswith('.mp4')][:max_videos_per_class]\n",
        "        print(\"Processing real videos (single-threaded)...\")\n",
        "        for file in tqdm(real_files):\n",
        "            frames = extract_faces_from_video(os.path.join(real_dir, file))\n",
        "            self.images.extend(frames)\n",
        "            self.labels.extend([0] * len(frames))  # 0 = real\n",
        "\n",
        "        # Process fake videos (single-threaded with progress)\n",
        "        fake_files = [f for f in os.listdir(fake_dir) if f.endswith('.mp4')][:max_videos_per_class]\n",
        "        print(\"Processing fake videos (single-threaded)...\")\n",
        "        for file in tqdm(fake_files):\n",
        "            frames = extract_faces_from_video(os.path.join(fake_dir, file))\n",
        "            self.images.extend(frames)\n",
        "            self.labels.extend([1] * len(frames))  # 1 = fake\n",
        "\n",
        "        print(f\"Extracted {len(self.images)} face images from videos.\")\n",
        "\n",
        "        # Showing num of fake and real images \n",
        "        num_real = sum(1 for label in self.labels if label == 0)\n",
        "        num_fake = sum(1 for label in self.labels if label == 1)\n",
        "        print(f\"Class Balance: Real images: {num_real}, Fake images: {num_fake}\")\n",
        "\n",
        "        # Visualize a sample\n",
        "        if self.images:\n",
        "            sample_img = self.images[0]\n",
        "            plt.imshow(sample_img)\n",
        "            plt.title(\"Sample Face (Real)\" if self.labels[0] == 0 else \"Sample Face (Fake)\")\n",
        "            plt.show()\n",
        "\n",
        "    def __len__(self):\n",
        "        return len(self.images)\n",
        "\n",
        "    def __getitem__(self, idx):\n",
        "        img = self.images[idx]\n",
        "        inputs = self.image_processor(img, return_tensors='pt').pixel_values.squeeze(0)  # Updated\n",
        "        return {'pixel_values': inputs, 'labels': self.labels[idx]}\n",
        "\n",
        "# Load image processor \n",
        "image_processor = ViTImageProcessor.from_pretrained('google/vit-base-patch16-224')\n",
        "\n",
        "# Create dataset (limit to 50 videos each for speed)\n",
        "# Currently set to 100 for accuracy\n",
        "dataset = DeepfakeDataset(image_processor, max_videos_per_class=100)\n",
        "\n",
        "# Split 80/20\n",
        "train_size = int(0.8 * len(dataset))\n",
        "test_size = len(dataset) - train_size\n",
        "train_dataset, test_dataset = random_split(dataset, [train_size, test_size])\n",
        "\n",
        "print(f\"Total images: {len(dataset)} (Train: {train_size}, Test: {test_size})\")"
      ]
    },
    {
      "cell_type": "markdown",
      "metadata": {},
      "source": [
        "# Cell 3: Model Setup"
      ]
    },
    {
      "cell_type": "code",
      "execution_count": null,
      "metadata": {
        "colab": {
          "base_uri": "https://localhost:8080/"
        },
        "id": "G27s6fsnG854",
        "outputId": "7ea1b46a-ef57-4a16-ab52-ac35ed4ba50a"
      },
      "outputs": [],
      "source": [
        "\n",
        "class ConViTInspired(nn.Module):\n",
        "    def __init__(self, num_classes=2):\n",
        "        super(ConViTInspired, self).__init__()\n",
        "        self.vit = ViTForImageClassification.from_pretrained('google/vit-base-patch16-224', num_labels=num_classes, ignore_mismatched_sizes=True)\n",
        "\n",
        "        # Convolutional layer to extract features (expands to 16 channels, inspired by paper)\n",
        "        self.conv = nn.Conv2d(3, 16, kernel_size=3, stride=1, padding=1)\n",
        "\n",
        "        # New: Projection layer to reduce back to 3 channels (fixes the error!)\n",
        "        self.proj = nn.Conv2d(16, 3, kernel_size=1)  # 1x1 conv to match ViT input\n",
        "\n",
        "        self.relu = nn.ReLU()\n",
        "\n",
        "    def forward(self, pixel_values, labels=None):\n",
        "        x = self.conv(pixel_values)  # Apply conv (now 16 channels)\n",
        "        x = self.relu(x)\n",
        "        x = self.proj(x)  # Project back to 3 channels\n",
        "        outputs = self.vit(pixel_values=x, labels=labels)  # Now it matches ViT's expectation\n",
        "        return outputs\n",
        "\n",
        "# Create model and move to device\n",
        "model = ConViTInspired(num_classes=2).to(device)\n",
        "\n",
        "# layers for fine-tuning \n",
        "for param in model.vit.parameters():\n",
        "    param.requires_grad = True  # UnFreeze ViT base\n",
        "for param in model.vit.classifier.parameters():\n",
        "    param.requires_grad = True  # Unfreeze classifier\n",
        "for param in model.conv.parameters():\n",
        "    param.requires_grad = True  # Train the conv layer\n",
        "for param in model.proj.parameters():  # New: Train the projection layer too\n",
        "    param.requires_grad = True\n",
        "\n",
        "print(\"Model loaded with pretrained weights and channel fix!\")\n",
        "print(\"Model ready!\")"
      ]
    },
    {
      "cell_type": "markdown",
      "metadata": {},
      "source": [
        "# Cell 4: Fine-Tuning with Progress"
      ]
    },
    {
      "cell_type": "code",
      "execution_count": null,
      "metadata": {
        "colab": {
          "base_uri": "https://localhost:8080/",
          "height": 836
        },
        "id": "VSqDFeONHCHk",
        "outputId": "22f5252c-0e1e-4ef6-ed05-96c315dc11ea"
      },
      "outputs": [
        {
          "name": "stdout",
          "output_type": "stream",
          "text": [
            "Recalculated Class Balance for Weights: Real: 1052, Fake: 1083\n"
          ]
        },
        {
          "name": "stderr",
          "output_type": "stream",
          "text": [
            "Epoch 1: 100%|██████████| 214/214 [15:05<00:00,  4.23s/it, loss=0.355]\n"
          ]
        },
        {
          "name": "stdout",
          "output_type": "stream",
          "text": [
            "Epoch 1 Avg Loss: 0.6021\n"
          ]
        },
        {
          "name": "stderr",
          "output_type": "stream",
          "text": [
            "Epoch 2: 100%|██████████| 214/214 [16:18<00:00,  4.57s/it, loss=0.866] \n"
          ]
        },
        {
          "name": "stdout",
          "output_type": "stream",
          "text": [
            "Epoch 2 Avg Loss: 0.3747\n"
          ]
        },
        {
          "name": "stderr",
          "output_type": "stream",
          "text": [
            "Epoch 3: 100%|██████████| 214/214 [16:07<00:00,  4.52s/it, loss=0.0816] \n"
          ]
        },
        {
          "name": "stdout",
          "output_type": "stream",
          "text": [
            "Epoch 3 Avg Loss: 0.2084\n"
          ]
        },
        {
          "name": "stderr",
          "output_type": "stream",
          "text": [
            "Epoch 4: 100%|██████████| 214/214 [16:24<00:00,  4.60s/it, loss=0.0677] \n"
          ]
        },
        {
          "name": "stdout",
          "output_type": "stream",
          "text": [
            "Epoch 4 Avg Loss: 0.1540\n"
          ]
        },
        {
          "name": "stderr",
          "output_type": "stream",
          "text": [
            "Epoch 5: 100%|██████████| 214/214 [16:22<00:00,  4.59s/it, loss=0.126]   \n"
          ]
        },
        {
          "name": "stdout",
          "output_type": "stream",
          "text": [
            "Epoch 5 Avg Loss: 0.0876\n"
          ]
        },
        {
          "name": "stderr",
          "output_type": "stream",
          "text": [
            "Epoch 6: 100%|██████████| 214/214 [16:16<00:00,  4.56s/it, loss=0.0554]  \n"
          ]
        },
        {
          "name": "stdout",
          "output_type": "stream",
          "text": [
            "Epoch 6 Avg Loss: 0.0691\n"
          ]
        },
        {
          "name": "stderr",
          "output_type": "stream",
          "text": [
            "Epoch 7: 100%|██████████| 214/214 [16:08<00:00,  4.52s/it, loss=0.0003]  \n"
          ]
        },
        {
          "name": "stdout",
          "output_type": "stream",
          "text": [
            "Epoch 7 Avg Loss: 0.0785\n"
          ]
        },
        {
          "name": "stderr",
          "output_type": "stream",
          "text": [
            "Epoch 8: 100%|██████████| 214/214 [16:21<00:00,  4.59s/it, loss=0.00715] \n"
          ]
        },
        {
          "name": "stdout",
          "output_type": "stream",
          "text": [
            "Epoch 8 Avg Loss: 0.0666\n"
          ]
        },
        {
          "name": "stderr",
          "output_type": "stream",
          "text": [
            "Epoch 9: 100%|██████████| 214/214 [16:25<00:00,  4.61s/it, loss=2.5e-5]  \n"
          ]
        },
        {
          "name": "stdout",
          "output_type": "stream",
          "text": [
            "Epoch 9 Avg Loss: 0.0220\n"
          ]
        },
        {
          "name": "stderr",
          "output_type": "stream",
          "text": [
            "Epoch 10: 100%|██████████| 214/214 [16:22<00:00,  4.59s/it, loss=0.00217] "
          ]
        },
        {
          "name": "stdout",
          "output_type": "stream",
          "text": [
            "Epoch 10 Avg Loss: 0.0477\n"
          ]
        },
        {
          "name": "stderr",
          "output_type": "stream",
          "text": [
            "\n"
          ]
        },
        {
          "data": {
            "image/png": "[encoded data removed]",
            "text/plain": [
              "<Figure size 640x480 with 1 Axes>"
            ]
          },
          "metadata": {},
          "output_type": "display_data"
        }
      ],
      "source": [
        "batch_size = 8\n",
        "train_loader = DataLoader(train_dataset, batch_size=batch_size, shuffle=True)\n",
        "\n",
        "optimizer = optim.Adam(model.parameters(), lr=5e-5)  # Lower LR for stability\n",
        "\n",
        "# New: Recalculate class counts from the dataset (fixes NameError)\n",
        "num_real = sum(1 for label in dataset.labels if label == 0)\n",
        "num_fake = sum(1 for label in dataset.labels if label == 1)\n",
        "print(f\"Recalculated Class Balance for Weights: Real: {num_real}, Fake: {num_fake}\")\n",
        "\n",
        "# New: Add class weights to handle imbalance (weight fakes higher if fewer)\n",
        "if num_real == 0 or num_fake == 0:\n",
        "    class_weights = torch.tensor([1.0, 1.0]).to(device)  # Fallback if one class is empty\n",
        "else:\n",
        "    class_weights = torch.tensor([1.0, num_fake / num_real] if num_real > num_fake else [num_real / num_fake, 1.0]).to(device)\n",
        "criterion = nn.CrossEntropyLoss(weight=class_weights)  # Weighted loss\n",
        "\n",
        "losses = []\n",
        "num_epochs = 10  # Increase for better training\n",
        "model.train()\n",
        "\n",
        "for epoch in range(num_epochs):\n",
        "    total_loss = 0\n",
        "    progress_bar = tqdm(train_loader, desc=f\"Epoch {epoch+1}\")\n",
        "    for batch in progress_bar:\n",
        "        pixel_values = batch['pixel_values'].to(device)\n",
        "        labels = batch['labels'].to(device)\n",
        "        optimizer.zero_grad()\n",
        "        outputs = model(pixel_values, labels=labels)\n",
        "        loss = criterion(outputs.logits, labels)  # Use weighted criterion\n",
        "        loss.backward()\n",
        "        optimizer.step()\n",
        "        total_loss += loss.item()\n",
        "        progress_bar.set_postfix(loss=loss.item())\n",
        "\n",
        "    avg_loss = total_loss / len(train_loader)\n",
        "    losses.append(avg_loss)\n",
        "    print(f\"Epoch {epoch+1} Avg Loss: {avg_loss:.4f}\")\n",
        "\n",
        "# Plot loss\n",
        "plt.plot(losses)\n",
        "plt.xlabel('Epoch')\n",
        "plt.ylabel('Loss')\n",
        "plt.title('Training Progress')\n",
        "plt.show()"
      ]
    },
    {
      "cell_type": "markdown",
      "metadata": {},
      "source": [
        "# Cell 5: Testing"
      ]
    },
    {
      "cell_type": "code",
      "execution_count": null,
      "metadata": {
        "colab": {
          "base_uri": "https://localhost:8080/",
          "height": 484
        },
        "id": "W-k2BGInHHMd",
        "outputId": "9407f970-8db3-49de-f62a-1df420533d14"
      },
      "outputs": [],
      "source": [
        "\n",
        "test_loader = DataLoader(test_dataset, batch_size=batch_size)\n",
        "model.eval()\n",
        "true_labels = []\n",
        "pred_labels = []\n",
        "\n",
        "with torch.no_grad():\n",
        "    for batch in tqdm(test_loader, desc=\"Testing\"):\n",
        "        pixel_values = batch['pixel_values'].to(device)\n",
        "        labels = batch['labels'].to(device)\n",
        "        outputs = model(pixel_values)\n",
        "        preds = torch.argmax(outputs.logits, dim=1)\n",
        "        true_labels.extend(labels.cpu().numpy())\n",
        "        pred_labels.extend(preds.cpu().numpy())\n",
        "\n",
        "from sklearn.metrics import confusion_matrix, ConfusionMatrixDisplay\n",
        "cm = confusion_matrix(true_labels, pred_labels)\n",
        "disp = ConfusionMatrixDisplay(confusion_matrix=cm, display_labels=['Real', 'Fake'])\n",
        "disp.plot()\n",
        "plt.show()\n",
        "\n",
        "\n",
        "accuracy = accuracy_score(true_labels, pred_labels)\n",
        "print(f\"Test Accuracy: {accuracy * 100:.2f}%\")"
      ]
    },
    {
      "cell_type": "markdown",
      "metadata": {},
      "source": [
        "# Cell 6: Predict on a Single Video (Upload your own via /kaggle/input or add a path)"
      ]
    },
    {
      "cell_type": "code",
      "execution_count": null,
      "metadata": {
        "colab": {
          "base_uri": "https://localhost:8080/"
        },
        "id": "r1gL26_THMkw",
        "outputId": "8a6a948d-56fe-4102-82b1-57a930143a5b"
      },
      "outputs": [
        {
          "name": "stdout",
          "output_type": "stream",
          "text": [
            "Prediction for archive/FF++/fake/01_11__talking_against_wall__9229VVZ3.mp4: Fake\n"
          ]
        }
      ],
      "source": [
        "\n",
        "def predict_video(video_path):\n",
        "    frames = extract_faces_from_video(video_path, num_frames=5)\n",
        "    if not frames:\n",
        "        return \"No faces\"\n",
        "    preds = []\n",
        "    with torch.no_grad():\n",
        "        for frame in frames:\n",
        "            inputs = image_processor(frame, return_tensors='pt').pixel_values.to(device)\n",
        "            outputs = model(inputs)\n",
        "            pred = torch.argmax(outputs.logits, dim=1).item()\n",
        "            preds.append(pred)\n",
        "    avg_pred = np.mean(preds) > 0.5\n",
        "    return \"Fake\" if avg_pred else \"Real\"\n",
        "\n",
        "# Example: Test on a video from dataset (change path)\n",
        "test_video =\"archive/FF++/fake/01_11__talking_against_wall__9229VVZ3.mp4\"\n",
        "print(f\"Prediction for {test_video}: {predict_video(test_video)}\")"
      ]
    },
    {
      "cell_type": "markdown",
      "metadata": {},
      "source": [
        "# Cell 7: Save Model"
      ]
    },
    {
      "cell_type": "code",
      "execution_count": null,
      "metadata": {
        "colab": {
          "base_uri": "https://localhost:8080/"
        },
        "id": "MKYb12DQHVAH",
        "outputId": "24bcaf5f-652f-461d-ea93-ddf6570257a4"
      },
      "outputs": [
        {
          "name": "stdout",
          "output_type": "stream",
          "text": [
            "Model saved!\n"
          ]
        }
      ],
      "source": [
        "\n",
        "torch.save(model.state_dict(), 'my_deepfake_model.pth')\n",
        "print(\"Model saved!\")"
      ]
    },
    {
      "cell_type": "markdown",
      "metadata": {},
      "source": [
        "# Load and Use the Saved Model for further testing"
      ]
    },
    {
      "cell_type": "code",
      "execution_count": null,
      "metadata": {},
      "outputs": [
        {
          "name": "stderr",
          "output_type": "stream",
          "text": [
            "Some weights of ViTForImageClassification were not initialized from the model checkpoint at google/vit-base-patch16-224 and are newly initialized because the shapes did not match:\n",
            "- classifier.bias: found shape torch.Size([1000]) in the checkpoint and torch.Size([2]) in the model instantiated\n",
            "- classifier.weight: found shape torch.Size([1000, 768]) in the checkpoint and torch.Size([2, 768]) in the model instantiated\n",
            "You should probably TRAIN this model on a down-stream task to be able to use it for predictions and inference.\n"
          ]
        },
        {
          "name": "stdout",
          "output_type": "stream",
          "text": [
            "Model loaded successfully!\n",
            "Prediction for archive/FF++/fake/01_11__talking_against_wall__9229VVZ3.mp4: Fake\n",
            "Prediction for /path/to/video1.mp4: No faces detected\n",
            "Prediction for /path/to/video2.mp4: No faces detected\n"
          ]
        }
      ],
      "source": [
        "# Step 1: Re-define the model class (copied from Cell 3 - needed to load weights)\n",
        "class ConViTInspired(nn.Module):\n",
        "    def __init__(self, num_classes=2):\n",
        "        super(ConViTInspired, self).__init__()\n",
        "        self.vit = ViTForImageClassification.from_pretrained('google/vit-base-patch16-224', num_labels=num_classes, ignore_mismatched_sizes=True)\n",
        "\n",
        "        # Convolutional layer to extract features (expands to 16 channels, inspired by paper)\n",
        "        self.conv = nn.Conv2d(3, 16, kernel_size=3, stride=1, padding=1)\n",
        "\n",
        "        # Projection layer to reduce back to 3 channels\n",
        "        self.proj = nn.Conv2d(16, 3, kernel_size=1)  # 1x1 conv to match ViT input\n",
        "\n",
        "        self.relu = nn.ReLU()\n",
        "\n",
        "    def forward(self, pixel_values, labels=None):\n",
        "        x = self.conv(pixel_values)  # Apply conv (now 16 channels)\n",
        "        x = self.relu(x)\n",
        "        x = self.proj(x)  # Project back to 3 channels\n",
        "        outputs = self.vit(pixel_values=x, labels=labels)  # Now it matches ViT's expectation\n",
        "        return outputs\n",
        "\n",
        "# Step 2: Create a new instance of the model and load the saved weights\n",
        "model = ConViTInspired(num_classes=2)  # Create empty model\n",
        "model.load_state_dict(torch.load('my_deepfake_model.pth'))  # Load weights\n",
        "model.to(device)  \n",
        "model.eval()  # Set to evaluation mode (important for predictions)\n",
        "print(\"Model loaded successfully!\")\n",
        "\n",
        "# Step 3: Re-define predict_video if not already in this cell (copy from Cell 6)\n",
        "def predict_video(video_path, num_frames=5):\n",
        "    frames = extract_faces_from_video(video_path, num_frames=num_frames)\n",
        "    if not frames:\n",
        "        return \"No faces detected\"\n",
        "    preds = []\n",
        "    with torch.no_grad():\n",
        "        for frame in frames:\n",
        "            inputs = image_processor(frame, return_tensors='pt').pixel_values.to(device)\n",
        "            outputs = model(inputs)\n",
        "            pred = torch.argmax(outputs.logits, dim=1).item()\n",
        "            preds.append(pred)\n",
        "    avg_pred = np.mean(preds) > 0.5  # Standard threshold\n",
        "    return \"Fake\" if avg_pred else \"Real\"\n",
        "\n",
        "# Step 4: Example - Predict on a new video (change the path to your video)\n",
        "test_video_path = \"archive/FF++/fake/01_11__talking_against_wall__9229VVZ3.mp4\"  # Example fake video\n",
        "prediction = predict_video(test_video_path)\n",
        "print(f\"Prediction for {test_video_path}: {prediction}\")\n",
        "\n",
        "# Optional: Predict on multiple videos\n",
        "multiple_videos = [\n",
        "    \"/path/to/video1.mp4\",  # Add your video paths here\n",
        "    \"/path/to/video2.mp4\"\n",
        "]\n",
        "for vid in multiple_videos:\n",
        "    print(f\"Prediction for {vid}: {predict_video(vid)}\")"
      ]
    },
    {
      "cell_type": "markdown",
      "metadata": {},
      "source": [
        "# Cell 8: Create Web App Utilities\n",
        "Creates utilities needed for the web application"
      ]
    },
    {
      "cell_type": "code",
      "execution_count": null,
      "metadata": {},
      "outputs": [],
      "source": [
        "import pickle\n",
        "import json\n",
        "\n",
        "# Save the necessary functions and components for the web app\n",
        "web_app_utils = {\n",
        "    'extract_faces_function': extract_faces_from_video,\n",
        "    'image_processor': image_processor,\n",
        "    'model_class': ConViTInspired,\n",
        "    'device': device\n",
        "}\n",
        "\n",
        "# Create a simplified prediction function for web app\n",
        "def create_web_prediction_function():\n",
        "\n",
        "    def predict_video_for_web(video_path, model, image_processor, device, num_frames=10):\n",
        "        frames = extract_faces_from_video(video_path, num_frames)\n",
        "        if not frames:\n",
        "            return {\"error\": \"No faces detected\"}\n",
        "        \n",
        "        predictions = []\n",
        "        confidences = []\n",
        "        \n",
        "        with torch.no_grad():\n",
        "            for frame in frames:\n",
        "                inputs = image_processor(frame, return_tensors='pt').pixel_values.to(device)\n",
        "                outputs = model(inputs)\n",
        "                logits = outputs.logits\n",
        "                probabilities = torch.softmax(logits, dim=1)\n",
        "                pred = torch.argmax(logits, dim=1).item()\n",
        "                confidence = torch.max(probabilities).item()\n",
        "                \n",
        "                predictions.append(pred)\n",
        "                confidences.append(confidence)\n",
        "        \n",
        "        # Calculate overall prediction\n",
        "        avg_pred = np.mean(predictions) > 0.5\n",
        "        avg_confidence = np.mean(confidences)\n",
        "        \n",
        "        return {\n",
        "            'overall_prediction': 'Fake' if avg_pred else 'Real',\n",
        "            'confidence': avg_confidence,\n",
        "            'frame_predictions': predictions,\n",
        "            'confidences': confidences,\n",
        "            'num_frames': len(predictions)\n",
        "        }\n",
        "    \n",
        "    return predict_video_for_web\n",
        "\n",
        "# Test the web prediction function\n",
        "web_predict = create_web_prediction_function()\n",
        "print(\"Web app utilities created successfully!\")\n",
        "print(\" Model saved: my_deepfake_model.pth\")\n",
        "print(\" Web prediction function created\")\n",
        "print(\" Ready for web application!\")\n",
        "\n",
        "# Save some metadata about the model\n",
        "model_info = {\n",
        "    'model_type': 'ConViTInspired',\n",
        "    'num_classes': 2,\n",
        "    'input_size': (224, 224),\n",
        "    'device': str(device),\n",
        "    'training_complete': True\n",
        "}\n",
        "\n",
        "with open('model_info.json', 'w') as f:\n",
        "    json.dump(model_info, f, indent=2)\n",
        "\n",
        "print(\"📄 Model info saved to model_info.json\")"
      ]
    },
    {
      "cell_type": "markdown",
      "metadata": {},
      "source": [
        "# Thank You for Going Through\n",
        "Refer to ReadMe.md for any clarification on steps"
      ]
    },
    {
      "cell_type": "markdown",
      "metadata": {},
      "source": []
    }
  ],
  "metadata": {
    "accelerator": "GPU",
    "colab": {
      "gpuType": "T4",
      "provenance": []
    },
    "kernelspec": {
      "display_name": "Python 3",
      "name": "python3"
    },
    "language_info": {
      "codemirror_mode": {
        "name": "ipython",
        "version": 3
      },
      "file_extension": ".py",
      "mimetype": "text/x-python",
      "name": "python",
      "nbconvert_exporter": "python",
      "pygments_lexer": "ipython3",
      "version": "3.12.3"
    }
  },
  "nbformat": 4,
  "nbformat_minor": 0
}
